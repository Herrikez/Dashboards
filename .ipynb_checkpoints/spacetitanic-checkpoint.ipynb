{
 "cells": [
  {
   "cell_type": "code",
   "execution_count": 17,
   "id": "OqvJzcNdCN3g",
   "metadata": {
    "id": "OqvJzcNdCN3g"
   },
   "outputs": [
    {
     "name": "stdout",
     "output_type": "stream",
     "text": [
      "Note: you may need to restart the kernel to use updated packages.\n"
     ]
    }
   ],
   "source": [
    "pip install jupyter-dash -q"
   ]
  },
  {
   "cell_type": "code",
   "execution_count": 18,
   "id": "DLD7tnN4CPeb",
   "metadata": {
    "id": "DLD7tnN4CPeb"
   },
   "outputs": [
    {
     "name": "stdout",
     "output_type": "stream",
     "text": [
      "Note: you may need to restart the kernel to use updated packages.\n"
     ]
    }
   ],
   "source": [
    "pip install dash-cytoscape -q"
   ]
  },
  {
   "cell_type": "code",
   "execution_count": null,
   "id": "7d51e64e",
   "metadata": {},
   "outputs": [],
   "source": [
    "!pip install pandas"
   ]
  },
  {
   "cell_type": "code",
   "execution_count": 19,
   "id": "female-airfare",
   "metadata": {
    "id": "female-airfare"
   },
   "outputs": [],
   "source": [
    "import jupyter_dash as JDash\n",
    "import pandas as pd\n",
    "import plotly.express as px\n",
    "import numpy as np\n",
    "import dash\n",
    "import dash_cytoscape as cyto\n",
    "from dash import dcc\n",
    "from dash import html\n",
    "from dash.dependencies import Input, Output"
   ]
  },
  {
   "cell_type": "code",
   "execution_count": 20,
   "id": "integral-secretariat",
   "metadata": {
    "colab": {
     "base_uri": "https://localhost:8080/",
     "height": 671
    },
    "id": "integral-secretariat",
    "outputId": "6829d5c4-3bb3-4d29-f35e-dca48a6115e4"
   },
   "outputs": [
    {
     "data": {
      "text/html": [
       "\n",
       "        <iframe\n",
       "            width=\"100%\"\n",
       "            height=\"650\"\n",
       "            src=\"http://127.0.0.1:8031/\"\n",
       "            frameborder=\"0\"\n",
       "            allowfullscreen\n",
       "            \n",
       "        ></iframe>\n",
       "        "
      ],
      "text/plain": [
       "<IPython.lib.display.IFrame at 0x1a34685ef40>"
      ]
     },
     "metadata": {},
     "output_type": "display_data"
    }
   ],
   "source": [
    "app = JDash.JupyterDash(__name__)\n",
    "\n",
    "options_x = [\"FoodCourt\", \"Spa\", \"RoomService\", \"ShoppingMall\", \"VRDeck\", \"Age\", \"CabinNumber\", \"IDCode#1\", \"IDCode#2\", \"Spent\"]\n",
    "markers = [\"HomePlanet\", \"Destination\", \"CryoSleep\", \"VIP\", \"Deck\", \"Side\", \"Transported\"]\n",
    "\n",
    "\n",
    "app.layout = html.Div([\n",
    "    html.Div([\n",
    "        html.H2('Space Titanic investigation crossexamination'),\n",
    "        dcc.Graph(id=\"scatter-plot\")],\n",
    "        style={\"width\" : 500, \n",
    "               'padding': 10, \n",
    "               'flex': 1}),\n",
    "\n",
    "    html.Div([\n",
    "        html.H1(),\n",
    "        html.P(\"Choose X axis:\"),\n",
    "        dcc.Dropdown(id=\"x_axis\",\n",
    "                     options=options_x,\n",
    "                     multi=False,\n",
    "                     value=\"FoodCourt\",\n",
    "                     style = {\"width\": \"40 %\"}),\n",
    "        html.Br(),\n",
    "                       \n",
    "        html.P(\"Choose Y axis:\"),\n",
    "        dcc.Dropdown(id=\"y_axis\",\n",
    "                     options=options_x,\n",
    "                     multi=False,\n",
    "                     value=\"Spa\",\n",
    "                     style = {\"width\": \"40 %\"}),\n",
    "        html.Br(),\n",
    "                       \n",
    "        html.P(\"Choose color:\"),\n",
    "        dcc.Dropdown(id=\"marker\",\n",
    "                     options=markers,\n",
    "                     multi=False,\n",
    "                     value=\"Transported\",\n",
    "                     style = {\"width\": \"40 %\"}),\n",
    "        html.Br()],\n",
    "        style={\"width\": 150, \n",
    "               'padding': 10, \n",
    "               'flex': 0.5,\n",
    "               'marginTop': 45})\n",
    "], style={'backgroundColor': 'white','display': 'flex', 'flex-direction': 'row'})\n",
    "\n",
    "\n",
    "@app.callback(\n",
    "     Output(\"scatter-plot\", \"figure\"),\n",
    "    [Input(component_id='x_axis', component_property='value'), \n",
    "     Input(component_id='y_axis', component_property='value'),\n",
    "     Input(component_id='marker', component_property='value')])\n",
    "\n",
    "def update_graph(x_option, y_option, marker):\n",
    "        \n",
    "    df = pd.read_csv(\"spacetitanic.csv\")\n",
    "    df = df.dropna()\n",
    "        \n",
    "    fig = px.scatter(\n",
    "        df, x=x_option, y=y_option, \n",
    "        color=marker,\n",
    "        hover_data=[\"1stName\", \"Surname\"])\n",
    "    fig.update_traces(marker_size=10)\n",
    "    fig.update_layout(legend_title_text= marker+\"?\")\n",
    "\n",
    "    return fig\n",
    "\n",
    "app.run_server(mode=\"inline\", port = 8031)"
   ]
  }
 ],
 "metadata": {
  "colab": {
   "provenance": []
  },
  "kernelspec": {
   "display_name": "Python 3 (ipykernel)",
   "language": "python",
   "name": "python3"
  },
  "language_info": {
   "codemirror_mode": {
    "name": "ipython",
    "version": 3
   },
   "file_extension": ".py",
   "mimetype": "text/x-python",
   "name": "python",
   "nbconvert_exporter": "python",
   "pygments_lexer": "ipython3",
   "version": "3.9.7"
  }
 },
 "nbformat": 4,
 "nbformat_minor": 5
}
