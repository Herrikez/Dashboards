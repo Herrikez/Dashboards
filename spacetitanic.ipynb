{
  "cells": [
    {
      "cell_type": "code",
      "source": [
        "pip install jupyter-dash -q"
      ],
      "metadata": {
        "id": "OqvJzcNdCN3g"
      },
      "id": "OqvJzcNdCN3g",
      "execution_count": 5,
      "outputs": []
    },
    {
      "cell_type": "code",
      "source": [
        "pip install dash-cytoscape -q"
      ],
      "metadata": {
        "id": "DLD7tnN4CPeb"
      },
      "id": "DLD7tnN4CPeb",
      "execution_count": 6,
      "outputs": []
    },
    {
      "cell_type": "code",
      "execution_count": 7,
      "id": "female-airfare",
      "metadata": {
        "id": "female-airfare"
      },
      "outputs": [],
      "source": [
        "import jupyter_dash as JDash\n",
        "import pandas as pd\n",
        "import plotly.express as px\n",
        "import numpy as np\n",
        "import dash\n",
        "import dash_cytoscape as cyto\n",
        "from dash import dcc\n",
        "from dash import html\n",
        "from dash.dependencies import Input, Output"
      ]
    },
    {
      "cell_type": "code",
      "execution_count": 8,
      "id": "integral-secretariat",
      "metadata": {
        "colab": {
          "base_uri": "https://localhost:8080/",
          "height": 671
        },
        "id": "integral-secretariat",
        "outputId": "6829d5c4-3bb3-4d29-f35e-dca48a6115e4"
      },
      "outputs": [
        {
          "output_type": "display_data",
          "data": {
            "text/plain": [
              "<IPython.core.display.Javascript object>"
            ],
            "application/javascript": [
              "(async (port, path, width, height, cache, element) => {\n",
              "    if (!google.colab.kernel.accessAllowed && !cache) {\n",
              "      return;\n",
              "    }\n",
              "    element.appendChild(document.createTextNode(''));\n",
              "    const url = await google.colab.kernel.proxyPort(port, {cache});\n",
              "    const iframe = document.createElement('iframe');\n",
              "    iframe.src = new URL(path, url).toString();\n",
              "    iframe.height = height;\n",
              "    iframe.width = width;\n",
              "    iframe.style.border = 0;\n",
              "    iframe.allow = [\n",
              "        'accelerometer',\n",
              "        'autoplay',\n",
              "        'camera',\n",
              "        'clipboard-read',\n",
              "        'clipboard-write',\n",
              "        'gyroscope',\n",
              "        'magnetometer',\n",
              "        'microphone',\n",
              "        'serial',\n",
              "        'usb',\n",
              "        'xr-spatial-tracking',\n",
              "    ].join('; ');\n",
              "    element.appendChild(iframe);\n",
              "  })(8031, \"/\", \"100%\", 650, false, window.element)"
            ]
          },
          "metadata": {}
        }
      ],
      "source": [
        "app = JDash.JupyterDash(__name__)\n",
        "\n",
        "options_x = [\"FoodCourt\", \"Spa\", \"RoomService\", \"ShoppingMall\", \"VRDeck\", \"Age\", \"CabinNumber\", \"IDCode#1\", \"IDCode#2\", \"Spent\"]\n",
        "markers = [\"HomePlanet\", \"Destination\", \"CryoSleep\", \"VIP\", \"Deck\", \"Side\", \"Transported\"]\n",
        "\n",
        "\n",
        "app.layout = html.Div([\n",
        "    html.Div([\n",
        "        html.H2('Space Titanic investigation crossexamination'),\n",
        "        dcc.Graph(id=\"scatter-plot\")],\n",
        "        style={\"width\" : 500, \n",
        "               'padding': 10, \n",
        "               'flex': 1}),\n",
        "\n",
        "    html.Div([\n",
        "        html.H1(),\n",
        "        html.P(\"Choose X axis:\"),\n",
        "        dcc.Dropdown(id=\"x_axis\",\n",
        "                     options=options_x,\n",
        "                     multi=False,\n",
        "                     value=\"FoodCourt\",\n",
        "                     style = {\"width\": \"40 %\"}),\n",
        "        html.Br(),\n",
        "                       \n",
        "        html.P(\"Choose Y axis:\"),\n",
        "        dcc.Dropdown(id=\"y_axis\",\n",
        "                     options=options_x,\n",
        "                     multi=False,\n",
        "                     value=\"Spa\",\n",
        "                     style = {\"width\": \"40 %\"}),\n",
        "        html.Br(),\n",
        "                       \n",
        "        html.P(\"Choose color:\"),\n",
        "        dcc.Dropdown(id=\"marker\",\n",
        "                     options=markers,\n",
        "                     multi=False,\n",
        "                     value=\"Transported\",\n",
        "                     style = {\"width\": \"40 %\"}),\n",
        "        html.Br()],\n",
        "        style={\"width\": 150, \n",
        "               'padding': 10, \n",
        "               'flex': 0.5,\n",
        "               'marginTop': 45})\n",
        "], style={'display': 'flex', 'flex-direction': 'row'})\n",
        "\n",
        "\n",
        "@app.callback(\n",
        "     Output(\"scatter-plot\", \"figure\"),\n",
        "    [Input(component_id='x_axis', component_property='value'), \n",
        "     Input(component_id='y_axis', component_property='value'),\n",
        "     Input(component_id='marker', component_property='value')])\n",
        "\n",
        "def update_graph(x_option, y_option, marker):\n",
        "        \n",
        "    df = pd.read_csv(\"https://raw.githubusercontent.com/Herrikez/Dashboards/main/spacetitanic.csv\")\n",
        "    df = df.dropna()\n",
        "        \n",
        "    fig = px.scatter(\n",
        "        df, x=x_option, y=y_option, \n",
        "        color=marker,\n",
        "        hover_data=[\"1stName\", \"Surname\"])\n",
        "    fig.update_traces(marker_size=10)\n",
        "    fig.update_layout(legend_title_text= marker+\"?\")\n",
        "\n",
        "    return fig\n",
        "\n",
        "app.run_server(mode=\"inline\", port = 8031)"
      ]
    }
  ],
  "metadata": {
    "kernelspec": {
      "display_name": "Python 3",
      "language": "python",
      "name": "python3"
    },
    "language_info": {
      "codemirror_mode": {
        "name": "ipython",
        "version": 3
      },
      "file_extension": ".py",
      "mimetype": "text/x-python",
      "name": "python",
      "nbconvert_exporter": "python",
      "pygments_lexer": "ipython3",
      "version": "3.8.5"
    },
    "colab": {
      "provenance": []
    }
  },
  "nbformat": 4,
  "nbformat_minor": 5
}