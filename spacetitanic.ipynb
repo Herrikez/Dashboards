{
 "cells": [
  {
   "cell_type": "code",
   "execution_count": 149,
   "id": "female-airfare",
   "metadata": {},
   "outputs": [],
   "source": [
    "import jupyter_dash as JDash\n",
    "import pandas as pd\n",
    "import plotly.express as px\n",
    "import numpy as np\n",
    "import dash\n",
    "import dash_cytoscape as cyto\n",
    "import dash_core_components as dcc\n",
    "import dash_html_components as html\n",
    "from dash.dependencies import Input, Output"
   ]
  },
  {
   "cell_type": "code",
   "execution_count": 151,
   "id": "integral-secretariat",
   "metadata": {},
   "outputs": [
    {
     "data": {
      "text/html": [
       "\n",
       "        <iframe\n",
       "            width=\"100%\"\n",
       "            height=\"650\"\n",
       "            src=\"http://127.0.0.1:8031/\"\n",
       "            frameborder=\"0\"\n",
       "            allowfullscreen\n",
       "        ></iframe>\n",
       "        "
      ],
      "text/plain": [
       "<IPython.lib.display.IFrame at 0x25cf26dd970>"
      ]
     },
     "metadata": {},
     "output_type": "display_data"
    }
   ],
   "source": [
    "app = JDash.JupyterDash(__name__) #prevent_initial_callbacks = True)\n",
    "\n",
    "options_x = [\"FoodCourt\", \"Spa\", \"RoomService\", \"ShoppingMall\", \"VRDeck\", \"Age\", \"CabinNumber\", \"IDCode#1\", \"IDCode#2\", \"Spent\"]\n",
    "markers = [\"HomePlanet\", \"Destination\", \"CryoSleep\", \"VIP\", \"Deck\", \"Side\", \"Transported\"]\n",
    "\n",
    "\n",
    "app.layout = html.Div([\n",
    "    html.Div([\n",
    "        html.H2('Space Titanic investigation crossexamination'),\n",
    "        dcc.Graph(id=\"scatter-plot\")],\n",
    "        style={\"width\" : 500, \n",
    "               'padding': 10, \n",
    "               'flex': 1}),\n",
    "\n",
    "    html.Div([\n",
    "        html.H1(),\n",
    "        html.P(\"Choose X axis:\"),\n",
    "        dcc.Dropdown(id=\"x_axis\",\n",
    "                     options=options_x,\n",
    "                     multi=False,\n",
    "                     value=\"FoodCourt\",\n",
    "                     style = {\"width\": \"40 %\"}),\n",
    "        html.Br(),\n",
    "                       \n",
    "        html.P(\"Choose Y axis:\"),\n",
    "        dcc.Dropdown(id=\"y_axis\",\n",
    "                     options=options_x,\n",
    "                     multi=False,\n",
    "                     value=\"Spa\",\n",
    "                     style = {\"width\": \"40 %\"}),\n",
    "        html.Br(),\n",
    "                       \n",
    "        html.P(\"Choose color:\"),\n",
    "        dcc.Dropdown(id=\"marker\",\n",
    "                     options=markers,\n",
    "                     multi=False,\n",
    "                     value=\"Transported\",\n",
    "                     style = {\"width\": \"40 %\"}),\n",
    "        html.Br()],\n",
    "        style={\"width\": 150, \n",
    "               'padding': 10, \n",
    "               'flex': 0.5,\n",
    "               'marginTop': 45})\n",
    "], style={'display': 'flex', 'flex-direction': 'row'})\n",
    "\n",
    "\n",
    "@app.callback(\n",
    "     Output(\"scatter-plot\", \"figure\"),\n",
    "    [Input(component_id='x_axis', component_property='value'), \n",
    "     Input(component_id='y_axis', component_property='value'),\n",
    "     Input(component_id='marker', component_property='value')])\n",
    "\n",
    "def update_graph(x_option, y_option, marker):\n",
    "        \n",
    "    df = pd.read_csv(r\"C:/Users/Utente/Desktop/streamlit/spacetitanic.csv\")\n",
    "    df = df.dropna()\n",
    "        \n",
    "    fig = px.scatter(\n",
    "        df, x=x_option, y=y_option, \n",
    "        color=marker,\n",
    "        hover_data=[\"1stName\", \"Surname\"])\n",
    "    fig.update_traces(marker_size=10)\n",
    "    fig.update_layout(legend_title_text= marker+\"?\")\n",
    "\n",
    "    return fig\n",
    "\n",
    "app.run_server(mode=\"inline\", port = 8031)"
   ]
  }
 ],
 "metadata": {
  "kernelspec": {
   "display_name": "Python 3",
   "language": "python",
   "name": "python3"
  },
  "language_info": {
   "codemirror_mode": {
    "name": "ipython",
    "version": 3
   },
   "file_extension": ".py",
   "mimetype": "text/x-python",
   "name": "python",
   "nbconvert_exporter": "python",
   "pygments_lexer": "ipython3",
   "version": "3.8.5"
  }
 },
 "nbformat": 4,
 "nbformat_minor": 5
}
